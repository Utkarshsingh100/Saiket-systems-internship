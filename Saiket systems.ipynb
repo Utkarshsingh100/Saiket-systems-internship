{
 "cells": [
  {
   "cell_type": "code",
   "execution_count": 1,
   "metadata": {
    "id": "J7QYKOglZw-W"
   },
   "outputs": [],
   "source": [
    "import pandas as pd\n",
    "import numpy as np\n",
    "from sklearn.preprocessing import OneHotEncoder\n",
    "from sklearn.model_selection import train_test_split,KFold\n",
    "from sklearn.linear_model import LogisticRegression\n",
    "from sklearn.metrics import precision_score, recall_score, f1_score, roc_auc_score,accuracy_score\n",
    "import matplotlib.pyplot as plt\n",
    "import seaborn as sns\n",
    "from sklearn.metrics import confusion_matrix, roc_curve\n"
   ]
  },
  {
   "cell_type": "code",
   "execution_count": 2,
   "metadata": {
    "id": "jn_vB0PZZ3fo"
   },
   "outputs": [],
   "source": [
    "df=pd.read_csv('Telco_Customer_Churn_Dataset.csv')"
   ]
  },
  {
   "cell_type": "code",
   "execution_count": 3,
   "metadata": {
    "colab": {
     "base_uri": "https://localhost:8080/",
     "height": 342
    },
    "id": "nAIb5W4Macww",
    "outputId": "737a85f6-6ed1-4c49-db1e-688d7a910a26"
   },
   "outputs": [
    {
     "data": {
      "text/html": [
       "<div>\n",
       "<style scoped>\n",
       "    .dataframe tbody tr th:only-of-type {\n",
       "        vertical-align: middle;\n",
       "    }\n",
       "\n",
       "    .dataframe tbody tr th {\n",
       "        vertical-align: top;\n",
       "    }\n",
       "\n",
       "    .dataframe thead th {\n",
       "        text-align: right;\n",
       "    }\n",
       "</style>\n",
       "<table border=\"1\" class=\"dataframe\">\n",
       "  <thead>\n",
       "    <tr style=\"text-align: right;\">\n",
       "      <th></th>\n",
       "      <th>customerID</th>\n",
       "      <th>gender</th>\n",
       "      <th>SeniorCitizen</th>\n",
       "      <th>Partner</th>\n",
       "      <th>Dependents</th>\n",
       "      <th>tenure</th>\n",
       "      <th>PhoneService</th>\n",
       "      <th>MultipleLines</th>\n",
       "      <th>InternetService</th>\n",
       "      <th>OnlineSecurity</th>\n",
       "      <th>...</th>\n",
       "      <th>DeviceProtection</th>\n",
       "      <th>TechSupport</th>\n",
       "      <th>StreamingTV</th>\n",
       "      <th>StreamingMovies</th>\n",
       "      <th>Contract</th>\n",
       "      <th>PaperlessBilling</th>\n",
       "      <th>PaymentMethod</th>\n",
       "      <th>MonthlyCharges</th>\n",
       "      <th>TotalCharges</th>\n",
       "      <th>Churn</th>\n",
       "    </tr>\n",
       "  </thead>\n",
       "  <tbody>\n",
       "    <tr>\n",
       "      <th>0</th>\n",
       "      <td>7590-VHVEG</td>\n",
       "      <td>Female</td>\n",
       "      <td>0</td>\n",
       "      <td>Yes</td>\n",
       "      <td>No</td>\n",
       "      <td>1</td>\n",
       "      <td>No</td>\n",
       "      <td>No phone service</td>\n",
       "      <td>DSL</td>\n",
       "      <td>No</td>\n",
       "      <td>...</td>\n",
       "      <td>No</td>\n",
       "      <td>No</td>\n",
       "      <td>No</td>\n",
       "      <td>No</td>\n",
       "      <td>Month-to-month</td>\n",
       "      <td>Yes</td>\n",
       "      <td>Electronic check</td>\n",
       "      <td>29.85</td>\n",
       "      <td>29.85</td>\n",
       "      <td>No</td>\n",
       "    </tr>\n",
       "    <tr>\n",
       "      <th>1</th>\n",
       "      <td>5575-GNVDE</td>\n",
       "      <td>Male</td>\n",
       "      <td>0</td>\n",
       "      <td>No</td>\n",
       "      <td>No</td>\n",
       "      <td>34</td>\n",
       "      <td>Yes</td>\n",
       "      <td>No</td>\n",
       "      <td>DSL</td>\n",
       "      <td>Yes</td>\n",
       "      <td>...</td>\n",
       "      <td>Yes</td>\n",
       "      <td>No</td>\n",
       "      <td>No</td>\n",
       "      <td>No</td>\n",
       "      <td>One year</td>\n",
       "      <td>No</td>\n",
       "      <td>Mailed check</td>\n",
       "      <td>56.95</td>\n",
       "      <td>1889.5</td>\n",
       "      <td>No</td>\n",
       "    </tr>\n",
       "    <tr>\n",
       "      <th>2</th>\n",
       "      <td>3668-QPYBK</td>\n",
       "      <td>Male</td>\n",
       "      <td>0</td>\n",
       "      <td>No</td>\n",
       "      <td>No</td>\n",
       "      <td>2</td>\n",
       "      <td>Yes</td>\n",
       "      <td>No</td>\n",
       "      <td>DSL</td>\n",
       "      <td>Yes</td>\n",
       "      <td>...</td>\n",
       "      <td>No</td>\n",
       "      <td>No</td>\n",
       "      <td>No</td>\n",
       "      <td>No</td>\n",
       "      <td>Month-to-month</td>\n",
       "      <td>Yes</td>\n",
       "      <td>Mailed check</td>\n",
       "      <td>53.85</td>\n",
       "      <td>108.15</td>\n",
       "      <td>Yes</td>\n",
       "    </tr>\n",
       "    <tr>\n",
       "      <th>3</th>\n",
       "      <td>7795-CFOCW</td>\n",
       "      <td>Male</td>\n",
       "      <td>0</td>\n",
       "      <td>No</td>\n",
       "      <td>No</td>\n",
       "      <td>45</td>\n",
       "      <td>No</td>\n",
       "      <td>No phone service</td>\n",
       "      <td>DSL</td>\n",
       "      <td>Yes</td>\n",
       "      <td>...</td>\n",
       "      <td>Yes</td>\n",
       "      <td>Yes</td>\n",
       "      <td>No</td>\n",
       "      <td>No</td>\n",
       "      <td>One year</td>\n",
       "      <td>No</td>\n",
       "      <td>Bank transfer (automatic)</td>\n",
       "      <td>42.30</td>\n",
       "      <td>1840.75</td>\n",
       "      <td>No</td>\n",
       "    </tr>\n",
       "    <tr>\n",
       "      <th>4</th>\n",
       "      <td>9237-HQITU</td>\n",
       "      <td>Female</td>\n",
       "      <td>0</td>\n",
       "      <td>No</td>\n",
       "      <td>No</td>\n",
       "      <td>2</td>\n",
       "      <td>Yes</td>\n",
       "      <td>No</td>\n",
       "      <td>Fiber optic</td>\n",
       "      <td>No</td>\n",
       "      <td>...</td>\n",
       "      <td>No</td>\n",
       "      <td>No</td>\n",
       "      <td>No</td>\n",
       "      <td>No</td>\n",
       "      <td>Month-to-month</td>\n",
       "      <td>Yes</td>\n",
       "      <td>Electronic check</td>\n",
       "      <td>70.70</td>\n",
       "      <td>151.65</td>\n",
       "      <td>Yes</td>\n",
       "    </tr>\n",
       "  </tbody>\n",
       "</table>\n",
       "<p>5 rows × 21 columns</p>\n",
       "</div>"
      ],
      "text/plain": [
       "   customerID  gender  SeniorCitizen Partner Dependents  tenure PhoneService  \\\n",
       "0  7590-VHVEG  Female              0     Yes         No       1           No   \n",
       "1  5575-GNVDE    Male              0      No         No      34          Yes   \n",
       "2  3668-QPYBK    Male              0      No         No       2          Yes   \n",
       "3  7795-CFOCW    Male              0      No         No      45           No   \n",
       "4  9237-HQITU  Female              0      No         No       2          Yes   \n",
       "\n",
       "      MultipleLines InternetService OnlineSecurity  ... DeviceProtection  \\\n",
       "0  No phone service             DSL             No  ...               No   \n",
       "1                No             DSL            Yes  ...              Yes   \n",
       "2                No             DSL            Yes  ...               No   \n",
       "3  No phone service             DSL            Yes  ...              Yes   \n",
       "4                No     Fiber optic             No  ...               No   \n",
       "\n",
       "  TechSupport StreamingTV StreamingMovies        Contract PaperlessBilling  \\\n",
       "0          No          No              No  Month-to-month              Yes   \n",
       "1          No          No              No        One year               No   \n",
       "2          No          No              No  Month-to-month              Yes   \n",
       "3         Yes          No              No        One year               No   \n",
       "4          No          No              No  Month-to-month              Yes   \n",
       "\n",
       "               PaymentMethod MonthlyCharges  TotalCharges Churn  \n",
       "0           Electronic check          29.85         29.85    No  \n",
       "1               Mailed check          56.95        1889.5    No  \n",
       "2               Mailed check          53.85        108.15   Yes  \n",
       "3  Bank transfer (automatic)          42.30       1840.75    No  \n",
       "4           Electronic check          70.70        151.65   Yes  \n",
       "\n",
       "[5 rows x 21 columns]"
      ]
     },
     "execution_count": 3,
     "metadata": {},
     "output_type": "execute_result"
    }
   ],
   "source": [
    "df.head()"
   ]
  },
  {
   "cell_type": "code",
   "execution_count": 4,
   "metadata": {
    "colab": {
     "base_uri": "https://localhost:8080/",
     "height": 742
    },
    "id": "vtIVHW45an3B",
    "outputId": "cbf5891b-4c65-451b-b962-10ac743e111b"
   },
   "outputs": [
    {
     "data": {
      "text/plain": [
       "customerID          0\n",
       "gender              0\n",
       "SeniorCitizen       0\n",
       "Partner             0\n",
       "Dependents          0\n",
       "tenure              0\n",
       "PhoneService        0\n",
       "MultipleLines       0\n",
       "InternetService     0\n",
       "OnlineSecurity      0\n",
       "OnlineBackup        0\n",
       "DeviceProtection    0\n",
       "TechSupport         0\n",
       "StreamingTV         0\n",
       "StreamingMovies     0\n",
       "Contract            0\n",
       "PaperlessBilling    0\n",
       "PaymentMethod       0\n",
       "MonthlyCharges      0\n",
       "TotalCharges        0\n",
       "Churn               0\n",
       "dtype: int64"
      ]
     },
     "execution_count": 4,
     "metadata": {},
     "output_type": "execute_result"
    }
   ],
   "source": [
    "null_counts = df.isnull().sum()\n",
    "null_counts"
   ]
  },
  {
   "cell_type": "code",
   "execution_count": 5,
   "metadata": {
    "colab": {
     "base_uri": "https://localhost:8080/"
    },
    "id": "XMPsdjI_bN6X",
    "outputId": "07b657e0-7ac9-4696-a6bc-5b030ce9f044"
   },
   "outputs": [
    {
     "name": "stdout",
     "output_type": "stream",
     "text": [
      "Classifications in 'customerID': ['7590-VHVEG' '5575-GNVDE' '3668-QPYBK' ... '4801-JZAZL' '8361-LTMKD'\n",
      " '3186-AJIEK']\n",
      "Classifications in 'gender': ['Female' 'Male']\n",
      "Classifications in 'Partner': ['Yes' 'No']\n",
      "Classifications in 'Dependents': ['No' 'Yes']\n",
      "Classifications in 'PhoneService': ['No' 'Yes']\n",
      "Classifications in 'MultipleLines': ['No phone service' 'No' 'Yes']\n",
      "Classifications in 'InternetService': ['DSL' 'Fiber optic' 'No']\n",
      "Classifications in 'OnlineSecurity': ['No' 'Yes' 'No internet service']\n",
      "Classifications in 'OnlineBackup': ['Yes' 'No' 'No internet service']\n",
      "Classifications in 'DeviceProtection': ['No' 'Yes' 'No internet service']\n",
      "Classifications in 'TechSupport': ['No' 'Yes' 'No internet service']\n",
      "Classifications in 'StreamingTV': ['No' 'Yes' 'No internet service']\n",
      "Classifications in 'StreamingMovies': ['No' 'Yes' 'No internet service']\n",
      "Classifications in 'Contract': ['Month-to-month' 'One year' 'Two year']\n",
      "Classifications in 'PaperlessBilling': ['Yes' 'No']\n",
      "Classifications in 'PaymentMethod': ['Electronic check' 'Mailed check' 'Bank transfer (automatic)'\n",
      " 'Credit card (automatic)']\n",
      "Classifications in 'TotalCharges': ['29.85' '1889.5' '108.15' ... '346.45' '306.6' '6844.5']\n",
      "Classifications in 'Churn': ['No' 'Yes']\n"
     ]
    }
   ],
   "source": [
    "for column in df.columns:\n",
    "    if df[column].dtype == 'object':\n",
    "        classifications = df[column].unique()\n",
    "        print(f\"Classifications in '{column}': {classifications}\")"
   ]
  },
  {
   "cell_type": "code",
   "execution_count": 6,
   "metadata": {
    "colab": {
     "base_uri": "https://localhost:8080/"
    },
    "id": "SvAocm9Bb4JM",
    "outputId": "55c48069-ddca-4320-e43a-74c569ba5cdd"
   },
   "outputs": [
    {
     "name": "stdout",
     "output_type": "stream",
     "text": [
      "Classifications in 'customerID': ['7590-VHVEG' '5575-GNVDE' '3668-QPYBK' ... '4801-JZAZL' '8361-LTMKD'\n",
      " '3186-AJIEK']\n",
      "Classifications in 'MultipleLines': ['No phone service' 'No' 'Yes']\n",
      "Classifications in 'DeviceProtection': ['No' 'Yes' 'No internet service']\n",
      "Classifications in 'TechSupport': ['No' 'Yes' 'No internet service']\n",
      "Classifications in 'TotalCharges': ['29.85' '1889.5' '108.15' ... '346.45' '306.6' '6844.5']\n",
      "Classifications in 'Churn': ['No' 'Yes']\n"
     ]
    }
   ],
   "source": [
    "encoder = OneHotEncoder(handle_unknown='ignore', sparse_output=False)\n",
    "columns_to_encode = ['gender', 'Partner', 'Dependents', 'PhoneService','InternetService', 'PaperlessBilling','StreamingTV','StreamingMovies','Contract','OnlineSecurity','OnlineBackup','PaymentMethod']\n",
    "\n",
    "encoded_data = encoder.fit_transform(df[columns_to_encode])\n",
    "\n",
    "encoded_feature_names = encoder.get_feature_names_out(columns_to_encode)\n",
    "\n",
    "encoded_df = pd.DataFrame(encoded_data, columns=encoded_feature_names)\n",
    "\n",
    "df = pd.concat([df, encoded_df], axis=1)\n",
    "\n",
    "df = df.drop(columns=columns_to_encode)\n",
    "\n",
    "for column in df.columns:\n",
    "    if df[column].dtype == 'object':\n",
    "        classifications = df[column].unique()\n",
    "        print(f\"Classifications in '{column}': {classifications}\")"
   ]
  },
  {
   "cell_type": "code",
   "execution_count": 7,
   "metadata": {
    "colab": {
     "base_uri": "https://localhost:8080/"
    },
    "id": "Y9IhoK2GdEbw",
    "outputId": "8f9cec7f-8be0-4e07-9cf6-43b5a90a7ebe"
   },
   "outputs": [
    {
     "name": "stdout",
     "output_type": "stream",
     "text": [
      "(5634, 40) (1409, 40) (5634,) (1409,)\n"
     ]
    }
   ],
   "source": [
    "X = df.drop('Churn', axis=1)\n",
    "y = df['Churn']\n",
    "X_train, X_test, y_train, y_test = train_test_split(X, y, test_size=0.2, random_state=42, stratify=y) # Use stratify for maintaining class distribution\n",
    "print(X_train.shape, X_test.shape, y_train.shape, y_test.shape)"
   ]
  },
  {
   "cell_type": "code",
   "execution_count": 8,
   "metadata": {
    "colab": {
     "base_uri": "https://localhost:8080/"
    },
    "id": "jyvq_V2ed765",
    "outputId": "e9dfc1dc-03db-423f-f457-37a576ea1830"
   },
   "outputs": [
    {
     "name": "stderr",
     "output_type": "stream",
     "text": [
      "C:\\Users\\singh\\AppData\\Local\\Temp\\ipykernel_11500\\2572260504.py:4: SettingWithCopyWarning: \n",
      "A value is trying to be set on a copy of a slice from a DataFrame.\n",
      "Try using .loc[row_indexer,col_indexer] = value instead\n",
      "\n",
      "See the caveats in the documentation: https://pandas.pydata.org/pandas-docs/stable/user_guide/indexing.html#returning-a-view-versus-a-copy\n",
      "  X_train_selected['TotalCharges'] = pd.to_numeric(X_train_selected['TotalCharges'], errors='coerce')\n",
      "C:\\Users\\singh\\AppData\\Local\\Temp\\ipykernel_11500\\2572260504.py:5: SettingWithCopyWarning: \n",
      "A value is trying to be set on a copy of a slice from a DataFrame.\n",
      "Try using .loc[row_indexer,col_indexer] = value instead\n",
      "\n",
      "See the caveats in the documentation: https://pandas.pydata.org/pandas-docs/stable/user_guide/indexing.html#returning-a-view-versus-a-copy\n",
      "  X_test_selected['TotalCharges'] = pd.to_numeric(X_test_selected['TotalCharges'], errors='coerce')\n",
      "C:\\Users\\singh\\AppData\\Local\\Temp\\ipykernel_11500\\2572260504.py:6: SettingWithCopyWarning: \n",
      "A value is trying to be set on a copy of a slice from a DataFrame.\n",
      "Try using .loc[row_indexer,col_indexer] = value instead\n",
      "\n",
      "See the caveats in the documentation: https://pandas.pydata.org/pandas-docs/stable/user_guide/indexing.html#returning-a-view-versus-a-copy\n",
      "  X_train_selected['TotalCharges'] = X_train_selected['TotalCharges'].fillna(X_train_selected['TotalCharges'].mean())\n",
      "C:\\Users\\singh\\AppData\\Local\\Temp\\ipykernel_11500\\2572260504.py:7: SettingWithCopyWarning: \n",
      "A value is trying to be set on a copy of a slice from a DataFrame.\n",
      "Try using .loc[row_indexer,col_indexer] = value instead\n",
      "\n",
      "See the caveats in the documentation: https://pandas.pydata.org/pandas-docs/stable/user_guide/indexing.html#returning-a-view-versus-a-copy\n",
      "  X_test_selected['TotalCharges'] = X_test_selected['TotalCharges'].fillna(X_test_selected['TotalCharges'].mean())\n",
      "C:\\Users\\singh\\AppData\\Local\\Temp\\ipykernel_11500\\2572260504.py:11: SettingWithCopyWarning: \n",
      "A value is trying to be set on a copy of a slice from a DataFrame.\n",
      "Try using .loc[row_indexer,col_indexer] = value instead\n",
      "\n",
      "See the caveats in the documentation: https://pandas.pydata.org/pandas-docs/stable/user_guide/indexing.html#returning-a-view-versus-a-copy\n",
      "  X_train_selected['TotalCharges'] = scaler.fit_transform(X_train_selected[['TotalCharges']])\n",
      "C:\\Users\\singh\\AppData\\Local\\Temp\\ipykernel_11500\\2572260504.py:12: SettingWithCopyWarning: \n",
      "A value is trying to be set on a copy of a slice from a DataFrame.\n",
      "Try using .loc[row_indexer,col_indexer] = value instead\n",
      "\n",
      "See the caveats in the documentation: https://pandas.pydata.org/pandas-docs/stable/user_guide/indexing.html#returning-a-view-versus-a-copy\n",
      "  X_test_selected['TotalCharges'] = scaler.transform(X_test_selected[['TotalCharges']])\n",
      "C:\\Users\\singh\\AppData\\Local\\Temp\\ipykernel_11500\\2572260504.py:13: SettingWithCopyWarning: \n",
      "A value is trying to be set on a copy of a slice from a DataFrame.\n",
      "Try using .loc[row_indexer,col_indexer] = value instead\n",
      "\n",
      "See the caveats in the documentation: https://pandas.pydata.org/pandas-docs/stable/user_guide/indexing.html#returning-a-view-versus-a-copy\n",
      "  X_train_selected['tenure'] = scaler.fit_transform(X_train_selected[['tenure']])\n",
      "C:\\Users\\singh\\AppData\\Local\\Temp\\ipykernel_11500\\2572260504.py:14: SettingWithCopyWarning: \n",
      "A value is trying to be set on a copy of a slice from a DataFrame.\n",
      "Try using .loc[row_indexer,col_indexer] = value instead\n",
      "\n",
      "See the caveats in the documentation: https://pandas.pydata.org/pandas-docs/stable/user_guide/indexing.html#returning-a-view-versus-a-copy\n",
      "  X_test_selected['tenure'] = scaler.transform(X_test_selected[['tenure']])\n"
     ]
    }
   ],
   "source": [
    "selected_features = ['tenure','PaperlessBilling_Yes','Partner_Yes', 'Dependents_Yes','InternetService_Fiber optic','InternetService_No', 'StreamingTV_Yes', 'StreamingMovies_Yes', 'TotalCharges','Contract_One year','Contract_Two year','PaymentMethod_Bank transfer (automatic)','PaymentMethod_Credit card (automatic)'\t,'PaymentMethod_Electronic check','OnlineBackup_Yes','OnlineSecurity_Yes']\n",
    "X_train_selected = X_train[selected_features]\n",
    "X_test_selected = X_test[selected_features]\n",
    "X_train_selected['TotalCharges'] = pd.to_numeric(X_train_selected['TotalCharges'], errors='coerce')\n",
    "X_test_selected['TotalCharges'] = pd.to_numeric(X_test_selected['TotalCharges'], errors='coerce')\n",
    "X_train_selected['TotalCharges'] = X_train_selected['TotalCharges'].fillna(X_train_selected['TotalCharges'].mean())\n",
    "X_test_selected['TotalCharges'] = X_test_selected['TotalCharges'].fillna(X_test_selected['TotalCharges'].mean())\n",
    "\n",
    "from sklearn.preprocessing import MinMaxScaler\n",
    "scaler = MinMaxScaler()\n",
    "X_train_selected['TotalCharges'] = scaler.fit_transform(X_train_selected[['TotalCharges']])\n",
    "X_test_selected['TotalCharges'] = scaler.transform(X_test_selected[['TotalCharges']])\n",
    "X_train_selected['tenure'] = scaler.fit_transform(X_train_selected[['tenure']])\n",
    "X_test_selected['tenure'] = scaler.transform(X_test_selected[['tenure']])"
   ]
  },
  {
   "cell_type": "code",
   "execution_count": 9,
   "metadata": {
    "colab": {
     "base_uri": "https://localhost:8080/"
    },
    "id": "yXgHJQ9UWgJ_",
    "outputId": "477f9070-f449-4485-d787-0fcf22bc5c31"
   },
   "outputs": [
    {
     "name": "stdout",
     "output_type": "stream",
     "text": [
      "Average Metrics across all folds:\n",
      "Accuracy: 0.8028\n",
      "Precision: 0.6546\n",
      "Recall: 0.5455\n",
      "F1-score: 0.5945\n",
      "ROC-AUC: 0.8433\n"
     ]
    }
   ],
   "source": [
    "kf = KFold(n_splits=5, shuffle=True, random_state=42)\n",
    "accuracy_scores = []\n",
    "precision_scores = []\n",
    "recall_scores = []\n",
    "f1_scores = []\n",
    "roc_auc_scores = []\n",
    "\n",
    "for train_index, test_index in kf.split(X_train_selected):\n",
    "    X_train_fold, X_val_fold = X_train_selected.iloc[train_index], X_train_selected.iloc[test_index]\n",
    "    y_train_fold, y_val_fold = y_train.iloc[train_index], y_train.iloc[test_index]\n",
    "    model = LogisticRegression(C=100,solver='liblinear',max_iter=500)\n",
    "    model.fit(X_train_fold, y_train_fold)\n",
    "    y_pred_fold = model.predict(X_val_fold)\n",
    "    y_prob_fold = model.predict_proba(X_val_fold)[:, 1]\n",
    "    accuracy = accuracy_score(y_val_fold, y_pred_fold)\n",
    "    precision = precision_score(y_val_fold, y_pred_fold, pos_label='Yes')\n",
    "    recall = recall_score(y_val_fold, y_pred_fold, pos_label='Yes')\n",
    "    f1 = f1_score(y_val_fold, y_pred_fold, pos_label='Yes')\n",
    "    roc_auc = roc_auc_score(y_val_fold, y_prob_fold)\n",
    "    accuracy_scores.append(accuracy)\n",
    "    precision_scores.append(precision)\n",
    "    recall_scores.append(recall)\n",
    "    f1_scores.append(f1)\n",
    "    roc_auc_scores.append(roc_auc)\n",
    "\n",
    "print(\"Average Metrics across all folds:\")\n",
    "print(f\"Accuracy: {np.mean(accuracy_scores):.4f}\")\n",
    "print(f\"Precision: {np.mean(precision_scores):.4f}\")\n",
    "print(f\"Recall: {np.mean(recall_scores):.4f}\")\n",
    "print(f\"F1-score: {np.mean(f1_scores):.4f}\")\n",
    "print(f\"ROC-AUC: {np.mean(roc_auc_scores):.4f}\")"
   ]
  },
  {
   "cell_type": "code",
   "execution_count": 10,
   "metadata": {},
   "outputs": [
    {
     "data": {
      "image/png": "[encoded data removed]",
      "text/plain": [
       "<Figure size 800x600 with 2 Axes>"
      ]
     },
     "metadata": {},
     "output_type": "display_data"
    },
    {
     "data": {
      "image/png": "[encoded data removed]",
      "text/plain": [
       "<Figure size 1000x600 with 1 Axes>"
      ]
     },
     "metadata": {},
     "output_type": "display_data"
    }
   ],
   "source": [
    "y_pred = model.predict(X_test_selected)\n",
    "cm = confusion_matrix(y_test, y_pred)\n",
    "plt.figure(figsize=(8, 6))\n",
    "sns.heatmap(cm, annot=True, fmt='d', cmap='Blues', \n",
    "            xticklabels=['No Churn', 'Churn'], yticklabels=['No Churn', 'Churn'])\n",
    "plt.xlabel('Predicted')\n",
    "plt.ylabel('Actual')\n",
    "plt.title('Confusion Matrix')\n",
    "plt.show()\n",
    "\n",
    "try:\n",
    "    feature_importance = pd.DataFrame({'Feature': X_train_selected.columns, 'Importance': model.coef_[0]})\n",
    "    feature_importance = feature_importance.sort_values(by='Importance', ascending=False)\n",
    "    plt.figure(figsize=(10, 6))\n",
    "    sns.barplot(x='Importance', y='Feature', data=feature_importance)\n",
    "    plt.title('Feature Importance')\n",
    "    plt.show()\n",
    "except AttributeError:\n",
    "    print(\"Feature importance is not available for this model type.\")"
   ]
  }
 ],
 "metadata": {
  "colab": {
   "provenance": []
  },
  "kernelspec": {
   "display_name": ".venv",
   "language": "python",
   "name": "python3"
  },
  "language_info": {
   "codemirror_mode": {
    "name": "ipython",
    "version": 3
   },
   "file_extension": ".py",
   "mimetype": "text/x-python",
   "name": "python",
   "nbconvert_exporter": "python",
   "pygments_lexer": "ipython3",
   "version": "3.12.4"
  }
 },
 "nbformat": 4,
 "nbformat_minor": 4
}
